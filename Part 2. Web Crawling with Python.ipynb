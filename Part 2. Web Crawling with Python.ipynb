{
 "cells": [
  {
   "cell_type": "markdown",
   "metadata": {},
   "source": [
    "# 1장. 웹 크롤링(crawling)\n",
    "## 1. 웹 페이지 데이터 추출\n",
    "* 데이터 분석을 할 때 우리가 원하는 모든 데이터셋이 준비가 되어 있는 것은 아니기 때문에 직접 데이터를 수집해야하는 경우가 생긴다.\n",
    "* 웹 페이지를 그대로 가져와서 데이터를 추출해내는 스크레이핑(scraping)은 유용한 데이터 수집방법이 될 수 있고, 반복적이고 자동화된 스크레이핑을 크롤링(crawling)이라고 한다. \n",
    "\n",
    "## 2. 웹 문서의 구조\n",
    "* 웹 크롤링을 하기 위해서는 웹 사이트의 구조를 알아야 한며, 이를 위해서는 HTML과 CSS 선택자에 대한 이해가 필수적이다. \n",
    "\n",
    "### 1. 마크업 언어(mark-up language)\n",
    "* 마크업 언어는 원래 텍스트 외의 원고의 교정부호와 주석을 표현하기 위한 것이었지만 용도가 확장되어 문서의 구조를 표현하는 역할을 하게 되며, 프로그래밍 언어와는 구별된다. \n",
    "* 마크업언어는 꺾쇠 괄호(<,>)에 둘러싸인 태그(tag)와 태그 내부의 속성(attribute)을 통해 데이터를 기술(description)한다. \n",
    "* 현재 이 문서를 기술하고 있는 마크다운(Markdown)도 마크업 언어의 일종이다. \n",
    "\n",
    "### 2. HTML(Hyper-Text Mark-up Language)\n",
    "* 우리 눈에 보이는 웹페이지의 모습은 보이지 않는 마크업 언어인 HTML의 태그와 속성에 의해 그 구조와 내용이 기술되고, 요소로서 구현된다. \n",
    "* 문서 객체 모델(DOM: The Document Object Model)은 HTML 문서의 프로그래밍 인터페이스로서, 웹 문서의 구조화된 표현을 제공한다. 상위요소와 하위요소가 있는 나무 모델을 생각하면 이해하기 쉽다. \n",
    "* 우리는 DOM을 통해 프로그래밍 언어로 웹 문서에 접근하여 문서 구조, 스타일, 내용 등을 변경할 수 있게 된다. \n",
    "* 크롬(Chrome)의 경우 개발자 도구(Ctrl + Shift + I)를 통해 HTML 구조와 DOM 요소를 확인할 수 있다."
   ]
  },
  {
   "cell_type": "code",
   "execution_count": 41,
   "metadata": {},
   "outputs": [],
   "source": [
    "# HTML 예시"
   ]
  },
  {
   "cell_type": "code",
   "execution_count": 22,
   "metadata": {
    "scrolled": true
   },
   "outputs": [
    {
     "data": {
      "text/html": [
       "\n",
       "<!DOCTYPE HTML>\n",
       "<html>\n",
       "    <head>\n",
       "        <title>문서의 제목으로서 브라우저에서는 탭의 이름에 해당한다.</title>\n",
       "    </head>\n",
       "    <body>\n",
       "        <h1>\n",
       "            <a href=\"https:www.samsung.net\", target=\"_blank\">가장 높은 수준의 제목</a>\n",
       "        </h1>\n",
       "        \n",
       "        <h2>두 번째 수준의 제목 1 </h2>\n",
       "            <center>\n",
       "            \n",
       "                <img src=\"https://i.ytimg.com/vi/dHmyY0iX0ww/hqdefault.jpg\", width = 300, alt=\"강아지 두 마리의 사진\">\n",
       "            \n",
       "            </center>\n",
       "            \n",
       "            <p> 문단 1의 내용. 문단 1의 내용. 문단 1의 내용. 문단 1의 내용. 문단 1의 내용. 문단 1의 내용. 문단 1의 내용. 문단 1의 내용. \n",
       "                문단 1의 내용. 문단 1의 내용. 문단 1의 내용. 문단 1의 내용. 문단 1의 내용. 문단 1의 내용. 문단 1의 내용. 문단 1의 내용. \n",
       "                문단 1의 내용. 문단 1의 내용. 문단 1의 내용. 문단 1의 내용. 문단 1의 내용. 문단 1의 내용. 문단 1의 내용. 문단 1의 내용. </p>\n",
       "            \n",
       "            <p> <b>문단 2의 내용. 문단 2의 내용. 문단 2의 내용. 문단 2의 내용. 문단 2의 내용. 문단 2의 내용. 문단 2의 내용. 문단 2의 내용. \n",
       "                문단 2의 내용. 문단 2의 내용. 문단 2의 내용. 문단 2의 내용. 문단 2의 내용. 문단 2의 내용. 문단 2의 내용. 문단 2의 내용. \n",
       "                문단 2의 내용. 문단 2의 내용. 문단 2의 내용. 문단 2의 내용. 문단 2의 내용. 문단 2의 내용. 문단 2의 내용. 문단 2의 내용. </b></p>\n",
       "        \n",
       "        <h2>두 번째 수준의 제목 2 </h2>\n",
       "        \n",
       "            <center>\n",
       "            \n",
       "                <img src=\"https://i.ytimg.com/vi/w3aXTGahEo4/maxresdefault.jpg\", width = 300, alt=\"고양이 두 마리의 사진\">\n",
       "            \n",
       "            </center>\n",
       "\n",
       "            <p> <i>문단 1의 내용. 문단 1의 내용. 문단 1의 내용. 문단 1의 내용. 문단 1의 내용. 문단 1의 내용. 문단 1의 내용. 문단 1의 내용. \n",
       "            문단 1의 내용. 문단 1의 내용. 문단 1의 내용. 문단 1의 내용. 문단 1의 내용. 문단 1의 내용. 문단 1의 내용. 문단 1의 내용. \n",
       "            문단 1의 내용. 문단 1의 내용. 문단 1의 내용. 문단 1의 내용. 문단 1의 내용. 문단 1의 내용. 문단 1의 내용. 문단 1의 내용.</i></p>\n",
       "\n",
       "            <p> <ins>문단 2의 내용. 문단 2의 내용. 문단 2의 내용. 문단 2의 내용. 문단 2의 내용. 문단 2의 내용. 문단 2의 내용. 문단 2의 내용. \n",
       "            문단 2의 내용. 문단 2의 내용. 문단 2의 내용. 문단 2의 내용. 문단 2의 내용. 문단 2의 내용. 문단 2의 내용. 문단 2의 내용. \n",
       "            문단 2의 내용. 문단 2의 내용. 문단 2의 내용. 문단 2의 내용. 문단 2의 내용. 문단 2의 내용. 문단 2의 내용. 문단 2의 내용. </ins></p>\n",
       "    </body>\n",
       "</html>\n"
      ],
      "text/plain": [
       "<IPython.core.display.HTML object>"
      ]
     },
     "metadata": {},
     "output_type": "display_data"
    }
   ],
   "source": [
    "%%html\n",
    "\n",
    "<!DOCTYPE HTML>\n",
    "<html>\n",
    "    <head>\n",
    "        <title>문서의 제목으로서 브라우저에서는 탭의 이름에 해당한다.</title>\n",
    "    </head>\n",
    "    <body>\n",
    "        <h1>\n",
    "            <a href=\"https:www.samsung.net\", target=\"_blank\">가장 높은 수준의 제목</a>\n",
    "        </h1>\n",
    "        \n",
    "        <h2>두 번째 수준의 제목 1 </h2>\n",
    "            <center>\n",
    "            \n",
    "                <img src=\"https://i.ytimg.com/vi/dHmyY0iX0ww/hqdefault.jpg\", width = 300, alt=\"강아지 두 마리의 사진\">\n",
    "            \n",
    "            </center>\n",
    "            \n",
    "            <p> 문단 1의 내용. 문단 1의 내용. 문단 1의 내용. 문단 1의 내용. 문단 1의 내용. 문단 1의 내용. 문단 1의 내용. 문단 1의 내용. \n",
    "                문단 1의 내용. 문단 1의 내용. 문단 1의 내용. 문단 1의 내용. 문단 1의 내용. 문단 1의 내용. 문단 1의 내용. 문단 1의 내용. \n",
    "                문단 1의 내용. 문단 1의 내용. 문단 1의 내용. 문단 1의 내용. 문단 1의 내용. 문단 1의 내용. 문단 1의 내용. 문단 1의 내용. </p>\n",
    "            \n",
    "            <p> <b>문단 2의 내용. 문단 2의 내용. 문단 2의 내용. 문단 2의 내용. 문단 2의 내용. 문단 2의 내용. 문단 2의 내용. 문단 2의 내용. \n",
    "                문단 2의 내용. 문단 2의 내용. 문단 2의 내용. 문단 2의 내용. 문단 2의 내용. 문단 2의 내용. 문단 2의 내용. 문단 2의 내용. \n",
    "                문단 2의 내용. 문단 2의 내용. 문단 2의 내용. 문단 2의 내용. 문단 2의 내용. 문단 2의 내용. 문단 2의 내용. 문단 2의 내용. </b></p>\n",
    "        \n",
    "        <h2>두 번째 수준의 제목 2 </h2>\n",
    "        \n",
    "            <center>\n",
    "            \n",
    "                <img src=\"https://i.ytimg.com/vi/w3aXTGahEo4/maxresdefault.jpg\", width = 300, alt=\"고양이 두 마리의 사진\">\n",
    "            \n",
    "            </center>\n",
    "\n",
    "            <p> <i>문단 1의 내용. 문단 1의 내용. 문단 1의 내용. 문단 1의 내용. 문단 1의 내용. 문단 1의 내용. 문단 1의 내용. 문단 1의 내용. \n",
    "            문단 1의 내용. 문단 1의 내용. 문단 1의 내용. 문단 1의 내용. 문단 1의 내용. 문단 1의 내용. 문단 1의 내용. 문단 1의 내용. \n",
    "            문단 1의 내용. 문단 1의 내용. 문단 1의 내용. 문단 1의 내용. 문단 1의 내용. 문단 1의 내용. 문단 1의 내용. 문단 1의 내용.</i></p>\n",
    "\n",
    "            <p> <ins>문단 2의 내용. 문단 2의 내용. 문단 2의 내용. 문단 2의 내용. 문단 2의 내용. 문단 2의 내용. 문단 2의 내용. 문단 2의 내용. \n",
    "            문단 2의 내용. 문단 2의 내용. 문단 2의 내용. 문단 2의 내용. 문단 2의 내용. 문단 2의 내용. 문단 2의 내용. 문단 2의 내용. \n",
    "            문단 2의 내용. 문단 2의 내용. 문단 2의 내용. 문단 2의 내용. 문단 2의 내용. 문단 2의 내용. 문단 2의 내용. 문단 2의 내용. </ins></p>\n",
    "    </body>\n",
    "</html>"
   ]
  },
  {
   "cell_type": "markdown",
   "metadata": {},
   "source": [
    "### 3. CSS 선택자(CSS selector)\n",
    "#### 1. 웹페이지 내 요소의 식별\n",
    "* 웹크롤링을 하기 위해서는 웹 페이지 내의 HTML 요소에 접근해야한다. \n",
    "* 개발자 도구를 열어 DOM 구조를 확인해보면 간단해 보이는 웹페이지에도 수많은 요소들이 존재한다는 것을 알 수 있다.\n",
    "* CSS 선택자는 우리가 수많은 요소 중 우리가 원하는 것을 특정(specify)할 수 있도록 도와준다. \n",
    "* 선택자를 잘 활용하면 구조가 복잡합 HTML 페이지라도 한 번에 원하는 데이터를 추출할 수 있다.\n",
    "* 'XPATH'라는 것을 이용해 HTML 요소에 접근할 수도 있지만 본 강의에서는 다루지 않는다. \n",
    "\n",
    "#### 2. 요소 간의 관계\n",
    "* HTML의 각 요소들은 서로간의 관계에 따라 조상 요소, 자손 요소, 부모 요소, 자식 요소가 될 수 있다. \n",
    "    * 한 요소의 모든 하위 요소를 자손 요소, 한 요소의 __모든 상위 요소__를 조상 요소라고 한다. \n",
    "    * 한 요소의 모든 직속 하위 요소를 자식 요소, 한 요소의 __모든 _직속_ 상위 요소__를 부모 요소라고 한다. \n",
    "\n",
    "#### 3. CSS 선택자 서식\n",
    "##### 1. 선택자 기본 서식\n",
    "* *: 모든 요소 선택\n",
    "* 요소이름: 요소 기반 선택\n",
    "* 요소이름.클래스이름: 클래스 기반 선택\n",
    "* #id: id 속성 기반 선택\n",
    "\n",
    "##### 2. 선택자 관계 지정 서식\n",
    "\n",
    "* 요소이름, 요소이름: 쉼표로 구분된 여러개의 선택자 모두 선택\n",
    "* 요소이름 요소이름: 앞 선택자의 후손 중 뒤 선택자에 해당하는 것 모두 선택(하위요소 다)\n",
    "* 요소이름 > 요소이름: 앞 선택자의 자손 중 뒤 선택자에 해당하는 것 모두 선택(직속 하위요소만)\n",
    "* 선택자1 + 선택자2: 같은 계층에서 바로 뒤에 있는 요소 선택(선택자1 제외)\n",
    "* 선택자1 ~ 선택자2: 선택자1부터 선택자2까지의 요소 모두 선택(선택자1 제외)\n",
    "\n",
    "##### 3. 선택자 속성 기반 서식\n",
    "\n",
    "* 요소[속성]: 해당 속성을 가진 요소 선택\n",
    "* 요소[속성=\"val\"]: 속성의 값이 정확하게 'val'과 일치하는 요소 선택\n",
    "* 요소[속성|=\"val\"]: 속성의 값이 정확하게 'val'이거나 val-'로 시작하는 요소 선택\n",
    "* 요소[속성^=\"val\"]: 속성의 값이 val'로 시작하면 선택\n",
    "* 요소[속성$=\"val\"]: 속성의 값이 val'로 끝나면 선택\n",
    "* 요소[속성*=\"val\"]: 속성의 'val'을 포함하고 있다면 선택\n",
    "* 요소[속성~=\"val\"]: 속성의 값에 'val'이 포함되는 요소(공백으로 분리된 값이 일치해야 함)\n",
    "\n",
    "##### 4. 위치 또는 상태를 지정하는 서식\n",
    "\n",
    "* 요소:root: 루트 요소\n",
    "* 요소:nth-child(n): n번째 자식 요소\n",
    "* 요소:nth-last-child(n): 뒤에서부터 n번째 자식 요소\n",
    "* 요소:nth-of-type(n): n번째 해당 종류의 요소(BeautifulSoup에서 유일하게 지원)\n",
    "* 요소:first-child: 첫번째 자식요소\n",
    "* 요소:last-child: 마지막 자식요소\n",
    "* 요소:first-of-type: 첫 번째 해당 종류의 요소\n",
    "* 요소:last-of-type: 마지막 해당 종류의 요소\n",
    "* 요소:only-child: 자식으로 유일한 요소\n",
    "* 요소:only-of-type: 자식으로 유일한 종류의 요소\n",
    "* 요소:empty: 내용이 없는 요소\n",
    "* 요소:lang(code): 특정 언어로 code를 지정한 요소\n",
    "* 요소:not(s): s이외의 요소      \n",
    "* 요소:enabled: 활성화된 UI 요소\n",
    "* 요소:disabled: 비활성화된 UI 요소\n",
    "* 요소:checked: 체크되어 있는 UI 요소 선택"
   ]
  },
  {
   "cell_type": "markdown",
   "metadata": {},
   "source": [
    "# 2장. Selenium 라이브러리\n",
    "## 1. 웹 페이지의 종류\n",
    "* 웹 페이지라고 해서 모두 똑같은 웹페이지가 아니라, 웹 서버에서 웹 페이지로 데이터가 전달되는 방식에 따라 정적 웹 페이지(Static Web Page)와 동적 웹 페이지(Dynamic Web Page)로 구분된다. \n",
    "\n",
    "### 1. 정적 웹 페이지\n",
    "![정적 웹 페이지 원리](https://t1.daumcdn.net/cfile/tistory/24148634579822C52B)\n",
    "* 정적 웹 페이지는 서버에 미리 저장된 파일이 그대로 보내진다.\n",
    "* 사용자는 서버에 저장된 데이터가 변경되지 않는 한 고정된 웹 페이지를 보게 된다.\n",
    "\n",
    "### 2. 동적 웹 페이지\n",
    "![동적 웹 페이지 원리](http://i1.wp.com/lh3.googleusercontent.com/-1jVzhuqATjw/Vqd54V1mrtI/AAAAAAAAACc/Cjt-etlXrHc/w720-o/dynamic-web.png?w=734&ssl=1)\n",
    "* 동적 웹 페이지는 서버에 있는 데이터들을 스크립트에 의해 가공처리한 후 생성되어 보내진다.\n",
    "* 사용자는 상황, 시간, 요청 등에 따라 달라지는 웹 페이지를 보게 된다.\n",
    "* 다양한 서비스 제공자의 요구를 충족시키기 위해 현재 대부분의 웹 페이지는 동적 웹 페이지이다. \n",
    "\n",
    "## 2. Selenium 사용법\n",
    "* 정적 웹 페이지의 경우에는 Beautifulsoup 라이브러리를 통해 손쉽게 HTML 문서를 파싱할 수 있지만, 웹 페이지와 상호작용해야하는 동적 웹 페이지를 스크레이핑하기 위해서는 Selenium 라이브러리를 사용해야 한다. \n",
    "\n",
    "### 1. 웹드라이버 불러오기\n",
    "* Selenium 라이브러리를 사용하기 위해서는 웹 드라이버가 필요하다. 크롬 웹드라이버는 아래의 링크에서 다운받을 수 있다.\n",
    "* 다운로드 URL: http://chromedriver.chromium.org/downloads\n",
    "* 웹 드라이버를 사용해 네이버에 접속해보자. "
   ]
  },
  {
   "cell_type": "code",
   "execution_count": 11,
   "metadata": {},
   "outputs": [],
   "source": [
    "# 웹드라이버 불러오기\n",
    "from selenium import webdriver as driver\n",
    "driver = driver.Chrome(\"C:\\chromedriver.exe\")\n",
    "driver.get(\"http://www.naver.com\")\n",
    "\n",
    "# 창 최대화\n",
    "driver.maximize_window()"
   ]
  },
  {
   "cell_type": "markdown",
   "metadata": {},
   "source": [
    "### 2. 요소에 접근하기\n",
    "* 웹드라이버를 통해 웹 페이지의 요소에 접근할 수 있으며 변수로 할당할 수 있다. \n",
    "* 네이버 뉴스 페이지로 가는 링크를 포함하고 있는 `<a>` 태그에 접근해보자. \n",
    "* 개발자 도구에서 `<a>` 태그를 확인해보면 다음과 같다.  \n",
    "`<a href=\"http://news.naver.com/\" class=\"an_a mn_news\" data-clk=\"svc.news\">\n",
    "    <span class=\"an_icon\"></span>\n",
    "    <span class=\"an_txt\">뉴스</span>\n",
    "</a>`\n",
    "* 앞서 배운 CSS 선택자를 활용하여 우리는 위의 `<a>` 태그에 접근할 수 있다. `<a>` 태그의 조상 요소를 살펴보면 `<ul>` 이라는 태그가 있는 것을 알 수 있다.\n",
    "* `<ul>` 태그가 식별자인 'id' 속성을 가지고 있기 때문에 이를 이용하여 우리가 관심있는 `<a>` 태그를 특정할 수 있게 된다. \n",
    "* 따라서 CSS 선택자는 다음과 같다\n",
    "    * ul#PM_ID_serviceNavi > li:nth-child(2) > a\n",
    "    * 이는 'PM_ID_serviceNavi'이라는 id를 가진 요소 `<ul>`의 자식 요소 중 두 번째 `<li>`의 자식요소 `<a>`에 접근하겠다는 의미이다. "
   ]
  },
  {
   "cell_type": "code",
   "execution_count": 12,
   "metadata": {
    "scrolled": false
   },
   "outputs": [
    {
     "data": {
      "text/plain": [
       "<selenium.webdriver.remote.webelement.WebElement (session=\"2b0b702435edf7fee73aca443ed11b7a\", element=\"0.0716075821582689-1\")>"
      ]
     },
     "execution_count": 12,
     "metadata": {},
     "output_type": "execute_result"
    }
   ],
   "source": [
    "# 네이버 '뉴스' 아이콘 찾기\n",
    "naver_news_icon = driver.find_element_by_css_selector(\"ul#PM_ID_serviceNavi > li:nth-child(2) > a\"); naver_news_icon"
   ]
  },
  {
   "cell_type": "markdown",
   "metadata": {},
   "source": [
    "* 해당 요소의 자식 요소 중에 `<span>`은 텍스트값 '뉴스'를 갖고 있다. 이 텍스트 값에 접근하려면 다음과 같이 하면 된다."
   ]
  },
  {
   "cell_type": "code",
   "execution_count": 13,
   "metadata": {},
   "outputs": [
    {
     "data": {
      "text/plain": [
       "'뉴스'"
      ]
     },
     "execution_count": 13,
     "metadata": {},
     "output_type": "execute_result"
    }
   ],
   "source": [
    "# <a>의 하위요소 중 <span> 요소의 텍스트에 접근하기\n",
    "naver_news_icon.text"
   ]
  },
  {
   "cell_type": "markdown",
   "metadata": {},
   "source": [
    "### 3. 요소와 상호작용하기\n",
    "* 이제 우리의 필요에 맞게 접근한 요소와 상호작용을 할 수 있다. 뉴스 아이콘을 클릭해서 뉴스 페이지로 들어가보자."
   ]
  },
  {
   "cell_type": "code",
   "execution_count": 14,
   "metadata": {},
   "outputs": [],
   "source": [
    "# 네이버 '뉴스' 아이콘 요소 클릭\n",
    "naver_news_icon.click()"
   ]
  },
  {
   "cell_type": "markdown",
   "metadata": {},
   "source": [
    "* 네이버 뉴스 메인 페이지로 들어왔다. 이 중에서 내가 원하는 기사를 검색해보자. 기사를 검색하기 위해서는 검색어 필드에 접근해야한다. \n",
    "* 크롬 브라우저의 개발자 도구를 열어보면 기사 검색창의 HTML 태그는 다음과 같은 것을 알 수 있다.  \n",
    "`<input type=\"text\" title=\"뉴스 검색\" name=\"query\" accesskey=\"s\" class=\"text_index\" style=\"ime-mode:active;\">`\n",
    "* 우리는 send_keys() 메소드를 이용해 검색창에 텍스트를 보낼 수 있다"
   ]
  },
  {
   "cell_type": "code",
   "execution_count": 15,
   "metadata": {},
   "outputs": [],
   "source": [
    "# 검색창에 검색어 보내기\n",
    "text_field = driver.find_element_by_css_selector(r\"form#lnb\\2e searchForm > fieldset > input.text_index\")\n",
    "text_field.send_keys(\"미세먼지\")"
   ]
  },
  {
   "cell_type": "markdown",
   "metadata": {},
   "source": [
    "* 검색어를 입력했으면 이제 엔터키를 눌러보자. 키를 입력하기 위해서는 새로운 모듈을 불러와야 한다."
   ]
  },
  {
   "cell_type": "code",
   "execution_count": 16,
   "metadata": {},
   "outputs": [],
   "source": [
    "# 엔터키 누르기\n",
    "from selenium.webdriver.common.keys import Keys\n",
    "text_field.send_keys(Keys.ENTER)"
   ]
  },
  {
   "cell_type": "markdown",
   "metadata": {},
   "source": [
    "### 4. 요소 스크레이핑하기\n",
    "* 이제 네이버 뉴스 메인 페이지로 돌아가서 우측의 '가장 많이 본 뉴스' 제목들을 스크레이핑 해보자."
   ]
  },
  {
   "cell_type": "code",
   "execution_count": 17,
   "metadata": {
    "scrolled": true
   },
   "outputs": [
    {
     "name": "stderr",
     "output_type": "stream",
     "text": [
      "C:\\Users\\User\\Anaconda3\\lib\\site-packages\\ipykernel_launcher.py:3: DeprecationWarning: use driver.switch_to.window instead\n",
      "  This is separate from the ipykernel package so we can avoid doing imports until\n"
     ]
    }
   ],
   "source": [
    "# 탭 이동\n",
    "main_window = driver.current_window_handle\n",
    "driver.switch_to_window(main_window)"
   ]
  },
  {
   "cell_type": "markdown",
   "metadata": {},
   "source": [
    "* '가장 많이 본 뉴스'의 기사 제목들은 `<li>` 태그의 자식요소인 `<a>` 태그의 값인 것을 알 수 있다.\n",
    "* `<ㅣi>` 요소들은 `<ul>` 요소의 자식 요소이지만,  `<ul>` 요소의 'class' 속성인 'section_list_ranking'은 다른 요소도 동일하게 갖고 있기 때문에 요소를 식별하는 데에 사용될 수 없다. \n",
    "* `<ㅣi>` 요소의 조상 요소 중에 `<div>` 요소는 식별자인 'id' 속성('container')을 갖고 있기 때문에 `<a>` 요소를 식별하는 데에 사용될 수 있다. "
   ]
  },
  {
   "cell_type": "code",
   "execution_count": 20,
   "metadata": {},
   "outputs": [
    {
     "name": "stdout",
     "output_type": "stream",
     "text": [
      "1 \"세월호 CCTV 조작 가능성…누군가 상황 알고 싶었을 수도\"\n",
      "2 '조두순법' '블라인드 채용법' 국회 본회의 통과(종합)\n",
      "3 야 3당, 靑 대변인 고가 건물 매입 비판…\"누가 봐도 투기\"(종합)\n",
      "4 박영선 \"6년 전 황교안, 김학의 얘기에 당황…귀까지 빨개져\"(종합)\n",
      "5 5분도 안 돼 깨진 민경욱의 \"박영선=망상환자\"\n",
      "6 국회 정경두 국방장관 해임안 발의…72시간 내 표결 처리\n",
      "7 박영선·이용주의 '의미심장'한 웃음…'김학의 특검' 끌려나온 황교안\n",
      "8 신보라 \"아기와 국회 출석…출산·양육 어려움 알리고 싶었다\"\n",
      "9 “박근혜 따라한 것 아냐” 이언주 청문회 패션 시끌\n",
      "10 황교안-박영선, 김학의 임명 직전 만나..黃 논란 인지 시점은\n",
      "\n",
      "\n",
      "\n",
      "\n",
      "\n",
      "\n"
     ]
    }
   ],
   "source": [
    "# 헤드라인 찾기\n",
    "headlines = driver.find_elements_by_css_selector(\"div#container div[class='main_aside'] ul.section_list_ranking\")\n",
    "for headline in headlines:\n",
    "    print(headline.text)"
   ]
  },
  {
   "cell_type": "code",
   "execution_count": 21,
   "metadata": {},
   "outputs": [],
   "source": [
    "# 웹드라이버 종료\n",
    "driver.quit()"
   ]
  },
  {
   "cell_type": "markdown",
   "metadata": {},
   "source": [
    "# 3장. Amazon 웹사이트 크롤링 실습\n",
    "* 이번 장에서는 독일, 영국, 스페인, 이탈리아, 프랑스의 Amazon 웹사이트에서 데이터를 크롤링하는 과정을 살펴본다. \n",
    "* 지금까지 배운 개념을 떠올리며 코드를 한 줄씩 이해해보자."
   ]
  },
  {
   "cell_type": "markdown",
   "metadata": {},
   "source": [
    "## 1. 기본 세팅\n",
    "* 대부분의 프로젝트에서 제일 먼저 해야할 일은 필요한 모듈을 불러오고 작업 공간(working space)을 지정하는 일이다. \n",
    "* 작업 공간이란 우리가 프로그래밍을 하면서 모듈이나 파일을 읽어올 때 그것들이 어디에 저장되어 있는지 Python에게 알려주는 것이다.\n",
    "* 작업 공간을 지정하지 않으면 Python은 모듈이나 파일을 찾지 못하고 오류 메세지를 내게 된다. "
   ]
  },
  {
   "cell_type": "code",
   "execution_count": 24,
   "metadata": {},
   "outputs": [],
   "source": [
    "# 필요한 라이브러리 불러오기\n",
    "from os import *\n",
    "from selenium import webdriver\n",
    "import selenium.common.exceptions as selexcept\n",
    "import time\n",
    "import pandas as pd"
   ]
  },
  {
   "cell_type": "code",
   "execution_count": 25,
   "metadata": {},
   "outputs": [
    {
     "data": {
      "text/plain": [
       "'C:\\\\wd'"
      ]
     },
     "execution_count": 25,
     "metadata": {},
     "output_type": "execute_result"
    }
   ],
   "source": [
    "# Set the working directory\n",
    "wd = r\"C:\\wd\"\n",
    "chdir(wd)\n",
    "getcwd()"
   ]
  },
  {
   "cell_type": "markdown",
   "metadata": {},
   "source": [
    "## 2. 변수 정의\n",
    "* 다음 단계는 프로그램 전반에 걸쳐서 사용할 변수들을 앞부분에 미리 정의해주는 것이다. \n",
    "* 이 프로젝트의 경우 웹 브라우징을 위한 URL 및 수집되는 데이터들을 저장하기 위한 변수를 미리 정의하게 된다. "
   ]
  },
  {
   "cell_type": "code",
   "execution_count": 26,
   "metadata": {},
   "outputs": [],
   "source": [
    "# 각 국가의 페이지에 접속하기 위한 URL의 기본형과 그것들을 저장할 딕셔너리를 정의한다.  \n",
    "url_de_base = \"https://www.amazon.de/gp/bestsellers/ce-de/364935031/ref=zg_bs_pg_2?ie=UTF8&pg=\"\n",
    "\n",
    "url_uk_base = \"https://www.amazon.co.uk/Best-Sellers-Electronics-Mobile-Phone-Cases-Covers/zgbs/electronics/340321031/ref=zg_bs_pg_2?_encoding=UTF8&pg=\"\n",
    "\n",
    "url_es_base = \"https://www.amazon.es/gp/bestsellers/electronics/934178031/ref=zg_bs_pg_2?ie=UTF8&pg=\"\n",
    "\n",
    "url_it_base = \"https://www.amazon.it/gp/bestsellers/electronics/473264031/ref=zg_bs_pg_2?ie=UTF8&pg=\"\n",
    "\n",
    "url_fr_base = \"https://www.amazon.fr/gp/bestsellers/electronics/15427624031/ref=zg_bs_pg_2?ie=UTF8&pg=\"\n",
    "\n",
    "urls_base = {\n",
    "        \"de\": url_de_base, \n",
    "        \"uk\": url_uk_base, \n",
    "        \"es\": url_es_base, \n",
    "        \"it\": url_it_base, \n",
    "        \"fr\": url_fr_base }\n",
    "\n",
    "# URL의 기본형을 조합하여 완전한 URL을 생성해내고, 이를 딕셔너리에 저장한다. \n",
    "urls = {} \n",
    "for country in list(urls_base.keys()):\n",
    "    for i in range(2):\n",
    "        urls_ = [urls_base[country] + str(i+1) for i in range(2)] \n",
    "        urls[country] = urls_\n",
    "\n",
    "# 웹 크롤링을 통해 수집될 데이터들을 저장할 리스트와 딕셔너리를 정의한다. \n",
    "data = {}    \n",
    "country = []\n",
    "for v in list(urls.keys()):\n",
    "    for i in range(100):\n",
    "        country.append(v)\n",
    "ranking = []\n",
    "manufacturer = []\n",
    "product = []\n",
    "rating = []\n",
    "num_review = []\n",
    "price = []\n",
    "feature = []\n",
    "current_url = []\n",
    "description = []\n",
    "review = []"
   ]
  },
  {
   "cell_type": "markdown",
   "metadata": {},
   "source": [
    "## 3. 웹 크롤링\n",
    "* 이제 사전 작업을 마치고 본격적으로 웹 크롤링을 할 차례이다. \n",
    "* 우선 웹 드라이버를 불러온다. "
   ]
  },
  {
   "cell_type": "code",
   "execution_count": 29,
   "metadata": {},
   "outputs": [],
   "source": [
    "# 웹 드라이버를 불러오고, 불러오기가 완료될 때까지 3초간 기다린다. \n",
    "driver = webdriver.Chrome(r\"C:\\chromedriver.exe\")\n",
    "driver.maximize_window()\n",
    "driver.implicitly_wait(3)"
   ]
  },
  {
   "cell_type": "markdown",
   "metadata": {},
   "source": [
    "* 웹 크롤링을 시작한다. "
   ]
  },
  {
   "cell_type": "code",
   "execution_count": 30,
   "metadata": {},
   "outputs": [
    {
     "ename": "WebDriverException",
     "evalue": "Message: unknown error: Element <a href=\"/Kompatibel-Einteilige-Transparent-Schutzhülle-042CS20926-UH-Schwarz/product-reviews/B01M1SCIOV/ref=cm_cr_arp_d_paging_btm_2?ie=UTF8&amp;pageNumber=2&amp;reviewerType=all_reviews\">...</a> is not clickable at point (835, 908). Other element would receive the click: <div class=\"a-section cr-list-loading reviews-loading\"></div>\n  (Session info: chrome=73.0.3683.86)\n  (Driver info: chromedriver=73.0.3683.20 (8e2b610813e167eee3619ac4ce6e42e3ec622017),platform=Windows NT 10.0.17134 x86_64)\n",
     "output_type": "error",
     "traceback": [
      "\u001b[1;31m---------------------------------------------------------------------------\u001b[0m",
      "\u001b[1;31mWebDriverException\u001b[0m                        Traceback (most recent call last)",
      "\u001b[1;32m<ipython-input-30-d376a1f40f0a>\u001b[0m in \u001b[0;36m<module>\u001b[1;34m\u001b[0m\n\u001b[0;32m     86\u001b[0m                         \u001b[0mreview_set\u001b[0m\u001b[1;33m.\u001b[0m\u001b[0mappend\u001b[0m\u001b[1;33m(\u001b[0m\u001b[0mdriver\u001b[0m\u001b[1;33m.\u001b[0m\u001b[0mfind_elements_by_css_selector\u001b[0m\u001b[1;33m(\u001b[0m\u001b[1;34m\"div[class='a-row a-spacing-small review-data']\"\u001b[0m\u001b[1;33m)\u001b[0m\u001b[1;33m[\u001b[0m\u001b[0mk\u001b[0m\u001b[1;33m]\u001b[0m\u001b[1;33m.\u001b[0m\u001b[0mtext\u001b[0m\u001b[1;33m)\u001b[0m\u001b[1;33m\u001b[0m\u001b[1;33m\u001b[0m\u001b[0m\n\u001b[0;32m     87\u001b[0m                     \u001b[1;32mtry\u001b[0m\u001b[1;33m:\u001b[0m\u001b[1;33m\u001b[0m\u001b[1;33m\u001b[0m\u001b[0m\n\u001b[1;32m---> 88\u001b[1;33m                         \u001b[0mdriver\u001b[0m\u001b[1;33m.\u001b[0m\u001b[0mfind_element_by_css_selector\u001b[0m\u001b[1;33m(\u001b[0m\u001b[1;34m\"ul.a-pagination > li.a-last > a\"\u001b[0m\u001b[1;33m)\u001b[0m\u001b[1;33m.\u001b[0m\u001b[0mclick\u001b[0m\u001b[1;33m(\u001b[0m\u001b[1;33m)\u001b[0m\u001b[1;33m\u001b[0m\u001b[1;33m\u001b[0m\u001b[0m\n\u001b[0m\u001b[0;32m     89\u001b[0m                         \u001b[0mdriver\u001b[0m\u001b[1;33m.\u001b[0m\u001b[0mimplicitly_wait\u001b[0m\u001b[1;33m(\u001b[0m\u001b[1;36m3\u001b[0m\u001b[1;33m)\u001b[0m\u001b[1;33m\u001b[0m\u001b[1;33m\u001b[0m\u001b[0m\n\u001b[0;32m     90\u001b[0m                     \u001b[1;32mexcept\u001b[0m \u001b[0mselexcept\u001b[0m\u001b[1;33m.\u001b[0m\u001b[0mNoSuchElementException\u001b[0m\u001b[1;33m:\u001b[0m\u001b[1;33m\u001b[0m\u001b[1;33m\u001b[0m\u001b[0m\n",
      "\u001b[1;32m~\\Anaconda3\\lib\\site-packages\\selenium\\webdriver\\remote\\webelement.py\u001b[0m in \u001b[0;36mclick\u001b[1;34m(self)\u001b[0m\n\u001b[0;32m     78\u001b[0m     \u001b[1;32mdef\u001b[0m \u001b[0mclick\u001b[0m\u001b[1;33m(\u001b[0m\u001b[0mself\u001b[0m\u001b[1;33m)\u001b[0m\u001b[1;33m:\u001b[0m\u001b[1;33m\u001b[0m\u001b[1;33m\u001b[0m\u001b[0m\n\u001b[0;32m     79\u001b[0m         \u001b[1;34m\"\"\"Clicks the element.\"\"\"\u001b[0m\u001b[1;33m\u001b[0m\u001b[1;33m\u001b[0m\u001b[0m\n\u001b[1;32m---> 80\u001b[1;33m         \u001b[0mself\u001b[0m\u001b[1;33m.\u001b[0m\u001b[0m_execute\u001b[0m\u001b[1;33m(\u001b[0m\u001b[0mCommand\u001b[0m\u001b[1;33m.\u001b[0m\u001b[0mCLICK_ELEMENT\u001b[0m\u001b[1;33m)\u001b[0m\u001b[1;33m\u001b[0m\u001b[1;33m\u001b[0m\u001b[0m\n\u001b[0m\u001b[0;32m     81\u001b[0m \u001b[1;33m\u001b[0m\u001b[0m\n\u001b[0;32m     82\u001b[0m     \u001b[1;32mdef\u001b[0m \u001b[0msubmit\u001b[0m\u001b[1;33m(\u001b[0m\u001b[0mself\u001b[0m\u001b[1;33m)\u001b[0m\u001b[1;33m:\u001b[0m\u001b[1;33m\u001b[0m\u001b[1;33m\u001b[0m\u001b[0m\n",
      "\u001b[1;32m~\\Anaconda3\\lib\\site-packages\\selenium\\webdriver\\remote\\webelement.py\u001b[0m in \u001b[0;36m_execute\u001b[1;34m(self, command, params)\u001b[0m\n\u001b[0;32m    631\u001b[0m             \u001b[0mparams\u001b[0m \u001b[1;33m=\u001b[0m \u001b[1;33m{\u001b[0m\u001b[1;33m}\u001b[0m\u001b[1;33m\u001b[0m\u001b[1;33m\u001b[0m\u001b[0m\n\u001b[0;32m    632\u001b[0m         \u001b[0mparams\u001b[0m\u001b[1;33m[\u001b[0m\u001b[1;34m'id'\u001b[0m\u001b[1;33m]\u001b[0m \u001b[1;33m=\u001b[0m \u001b[0mself\u001b[0m\u001b[1;33m.\u001b[0m\u001b[0m_id\u001b[0m\u001b[1;33m\u001b[0m\u001b[1;33m\u001b[0m\u001b[0m\n\u001b[1;32m--> 633\u001b[1;33m         \u001b[1;32mreturn\u001b[0m \u001b[0mself\u001b[0m\u001b[1;33m.\u001b[0m\u001b[0m_parent\u001b[0m\u001b[1;33m.\u001b[0m\u001b[0mexecute\u001b[0m\u001b[1;33m(\u001b[0m\u001b[0mcommand\u001b[0m\u001b[1;33m,\u001b[0m \u001b[0mparams\u001b[0m\u001b[1;33m)\u001b[0m\u001b[1;33m\u001b[0m\u001b[1;33m\u001b[0m\u001b[0m\n\u001b[0m\u001b[0;32m    634\u001b[0m \u001b[1;33m\u001b[0m\u001b[0m\n\u001b[0;32m    635\u001b[0m     \u001b[1;32mdef\u001b[0m \u001b[0mfind_element\u001b[0m\u001b[1;33m(\u001b[0m\u001b[0mself\u001b[0m\u001b[1;33m,\u001b[0m \u001b[0mby\u001b[0m\u001b[1;33m=\u001b[0m\u001b[0mBy\u001b[0m\u001b[1;33m.\u001b[0m\u001b[0mID\u001b[0m\u001b[1;33m,\u001b[0m \u001b[0mvalue\u001b[0m\u001b[1;33m=\u001b[0m\u001b[1;32mNone\u001b[0m\u001b[1;33m)\u001b[0m\u001b[1;33m:\u001b[0m\u001b[1;33m\u001b[0m\u001b[1;33m\u001b[0m\u001b[0m\n",
      "\u001b[1;32m~\\Anaconda3\\lib\\site-packages\\selenium\\webdriver\\remote\\webdriver.py\u001b[0m in \u001b[0;36mexecute\u001b[1;34m(self, driver_command, params)\u001b[0m\n\u001b[0;32m    319\u001b[0m         \u001b[0mresponse\u001b[0m \u001b[1;33m=\u001b[0m \u001b[0mself\u001b[0m\u001b[1;33m.\u001b[0m\u001b[0mcommand_executor\u001b[0m\u001b[1;33m.\u001b[0m\u001b[0mexecute\u001b[0m\u001b[1;33m(\u001b[0m\u001b[0mdriver_command\u001b[0m\u001b[1;33m,\u001b[0m \u001b[0mparams\u001b[0m\u001b[1;33m)\u001b[0m\u001b[1;33m\u001b[0m\u001b[1;33m\u001b[0m\u001b[0m\n\u001b[0;32m    320\u001b[0m         \u001b[1;32mif\u001b[0m \u001b[0mresponse\u001b[0m\u001b[1;33m:\u001b[0m\u001b[1;33m\u001b[0m\u001b[1;33m\u001b[0m\u001b[0m\n\u001b[1;32m--> 321\u001b[1;33m             \u001b[0mself\u001b[0m\u001b[1;33m.\u001b[0m\u001b[0merror_handler\u001b[0m\u001b[1;33m.\u001b[0m\u001b[0mcheck_response\u001b[0m\u001b[1;33m(\u001b[0m\u001b[0mresponse\u001b[0m\u001b[1;33m)\u001b[0m\u001b[1;33m\u001b[0m\u001b[1;33m\u001b[0m\u001b[0m\n\u001b[0m\u001b[0;32m    322\u001b[0m             response['value'] = self._unwrap_value(\n\u001b[0;32m    323\u001b[0m                 response.get('value', None))\n",
      "\u001b[1;32m~\\Anaconda3\\lib\\site-packages\\selenium\\webdriver\\remote\\errorhandler.py\u001b[0m in \u001b[0;36mcheck_response\u001b[1;34m(self, response)\u001b[0m\n\u001b[0;32m    240\u001b[0m                 \u001b[0malert_text\u001b[0m \u001b[1;33m=\u001b[0m \u001b[0mvalue\u001b[0m\u001b[1;33m[\u001b[0m\u001b[1;34m'alert'\u001b[0m\u001b[1;33m]\u001b[0m\u001b[1;33m.\u001b[0m\u001b[0mget\u001b[0m\u001b[1;33m(\u001b[0m\u001b[1;34m'text'\u001b[0m\u001b[1;33m)\u001b[0m\u001b[1;33m\u001b[0m\u001b[1;33m\u001b[0m\u001b[0m\n\u001b[0;32m    241\u001b[0m             \u001b[1;32mraise\u001b[0m \u001b[0mexception_class\u001b[0m\u001b[1;33m(\u001b[0m\u001b[0mmessage\u001b[0m\u001b[1;33m,\u001b[0m \u001b[0mscreen\u001b[0m\u001b[1;33m,\u001b[0m \u001b[0mstacktrace\u001b[0m\u001b[1;33m,\u001b[0m \u001b[0malert_text\u001b[0m\u001b[1;33m)\u001b[0m\u001b[1;33m\u001b[0m\u001b[1;33m\u001b[0m\u001b[0m\n\u001b[1;32m--> 242\u001b[1;33m         \u001b[1;32mraise\u001b[0m \u001b[0mexception_class\u001b[0m\u001b[1;33m(\u001b[0m\u001b[0mmessage\u001b[0m\u001b[1;33m,\u001b[0m \u001b[0mscreen\u001b[0m\u001b[1;33m,\u001b[0m \u001b[0mstacktrace\u001b[0m\u001b[1;33m)\u001b[0m\u001b[1;33m\u001b[0m\u001b[1;33m\u001b[0m\u001b[0m\n\u001b[0m\u001b[0;32m    243\u001b[0m \u001b[1;33m\u001b[0m\u001b[0m\n\u001b[0;32m    244\u001b[0m     \u001b[1;32mdef\u001b[0m \u001b[0m_value_or_default\u001b[0m\u001b[1;33m(\u001b[0m\u001b[0mself\u001b[0m\u001b[1;33m,\u001b[0m \u001b[0mobj\u001b[0m\u001b[1;33m,\u001b[0m \u001b[0mkey\u001b[0m\u001b[1;33m,\u001b[0m \u001b[0mdefault\u001b[0m\u001b[1;33m)\u001b[0m\u001b[1;33m:\u001b[0m\u001b[1;33m\u001b[0m\u001b[1;33m\u001b[0m\u001b[0m\n",
      "\u001b[1;31mWebDriverException\u001b[0m: Message: unknown error: Element <a href=\"/Kompatibel-Einteilige-Transparent-Schutzhülle-042CS20926-UH-Schwarz/product-reviews/B01M1SCIOV/ref=cm_cr_arp_d_paging_btm_2?ie=UTF8&amp;pageNumber=2&amp;reviewerType=all_reviews\">...</a> is not clickable at point (835, 908). Other element would receive the click: <div class=\"a-section cr-list-loading reviews-loading\"></div>\n  (Session info: chrome=73.0.3683.86)\n  (Driver info: chromedriver=73.0.3683.20 (8e2b610813e167eee3619ac4ce6e42e3ec622017),platform=Windows NT 10.0.17134 x86_64)\n"
     ]
    }
   ],
   "source": [
    "# 각 페이지에 접속해서 요소들을 크롤링한다.\n",
    "for item in list(urls.keys()):\n",
    "    for url in urls[item]:\n",
    "        driver.implicitly_wait(10)\n",
    "        driver.get(url)\n",
    "        for i in range(50):\n",
    "            # 랭킹 수집\n",
    "            ranking.append(driver.find_elements_by_css_selector(\"span[class='zg-badge-text']\")[i].text)\n",
    "            \n",
    "            # Price\n",
    "            try:\n",
    "                price.append(driver.find_elements_by_css_selector(\"span.p13n-sc-price\")[i].text)\n",
    "            \n",
    "            # In case there is no price\n",
    "            except:\n",
    "                price.append(\"\")\n",
    "            \n",
    "            # Number of reviews\n",
    "            try:\n",
    "                num_review.append(driver.find_elements_by_css_selector(\"#zg-ordered-list a.a-size-small.a-link-normal\")[i].text)\n",
    "            \n",
    "            # In case there is no reviews\n",
    "            except:\n",
    "                num_review.append(\"\")\n",
    "                pass\n",
    "        for i in range(50):\n",
    "            \n",
    "            # Get to each item page\n",
    "            try:\n",
    "                driver.find_elements_by_css_selector(\"#zg-ordered-list > li > span > div > span > a\")[i].click()\n",
    "            except:\n",
    "                pass\n",
    "            \n",
    "            # Descriptions\n",
    "            try:\n",
    "                n_description = len(driver.find_elements_by_css_selector(\"ul[class='a-unordered-list a-vertical a-spacing-none'] li > span.a-list-item\"))\n",
    "                description_set = []\n",
    "                for j in range(1, n_description):\n",
    "                    description_set.append(driver.find_elements_by_css_selector(\"ul[class='a-unordered-list a-vertical a-spacing-none'] li > span.a-list-item\")[j].text)\n",
    "                description.append(description_set)\n",
    "            except:\n",
    "                description.append(\"\")\n",
    "                pass\n",
    "            \n",
    "            # URL\n",
    "            current_url.append(driver.current_url)\n",
    "            \n",
    "            # Manufacturer\n",
    "            manufacturer.append(driver.find_element_by_css_selector(\"a#bylineInfo\").text);\n",
    "            \n",
    "            # Product\n",
    "            product.append(driver.find_element_by_css_selector(\"#productTitle\").text)\n",
    "            \n",
    "            # Rating\n",
    "            try:\n",
    "                rating.append(driver.find_element_by_css_selector(\"span[data-hook= rating-out-of-text]\").text)\n",
    "            except:\n",
    "                # Append 0 when there is no rating yet\n",
    "                rating.append(0)\n",
    "                pass\n",
    "            \n",
    "            # Feature\n",
    "            try:\n",
    "                n_features = len(driver.find_elements_by_css_selector(\"#cr-summarization-attribute- div.a-fixed-right-grid-col.a-col-left > div > span\"))\n",
    "                feature_set = []\n",
    "                for j in range(n_features):\n",
    "                    feature_set.append(driver.find_elements_by_css_selector(\"#cr-summarization-attribute- div.a-fixed-right-grid-col.a-col-left > div > span\")[j].text)\n",
    "                feature.append(feature_set)\n",
    "            except:\n",
    "                feature.append([\"\"])\n",
    "                pass\n",
    "            \n",
    "            # Reviews\n",
    "            try:\n",
    "                # Get to \"See all reviews\"\n",
    "                driver.find_element_by_css_selector(\"a[class='a-link-emphasis a-text-bold']\").click()\n",
    "                review_set = []\n",
    "                    \n",
    "                # Scrape the reviews page by page\n",
    "                page_continue = True\n",
    "                while page_continue: \n",
    "                    driver.implicitly_wait(3)\n",
    "                    n_review_page = len(driver.find_elements_by_css_selector(\"div[class='a-row a-spacing-small review-data']\"))\n",
    "                    driver.implicitly_wait(3)\n",
    "                    for k in range(n_review_page):\n",
    "                        review_set.append(driver.find_elements_by_css_selector(\"div[class='a-row a-spacing-small review-data']\")[k].text)\n",
    "                    try:\n",
    "                        driver.find_element_by_css_selector(\"ul.a-pagination > li.a-last > a\").click()\n",
    "                        driver.implicitly_wait(3)\n",
    "                    except selexcept.NoSuchElementException:\n",
    "                        page_continue = False\n",
    "                \n",
    "                # Save a set of reviews for an item\n",
    "                review.append(review_set)\n",
    "            except selexcept.NoSuchElementException:\n",
    "                review.append(\"\")\n",
    "            \n",
    "            # Get back to the item list page\n",
    "            driver.get(url)\n",
    "            \n",
    "            print(len(ranking), len(price), len(num_review), len(manufacturer), len(product), len(rating), len(feature),len(current_url), len(description), len(review), sep = \" / \")\n",
    "          "
   ]
  },
  {
   "cell_type": "markdown",
   "metadata": {},
   "source": [
    "## 4. 데이터 저장\n",
    "* 이제 웹 크롤링을 통해 수집된 데이터를 딕셔너리에 할당하고 'csv'파일로 저장하는 마지막 단계이다. "
   ]
  },
  {
   "cell_type": "code",
   "execution_count": null,
   "metadata": {},
   "outputs": [],
   "source": [
    "# 메타데이터를 키로 하고 수집된 데이터를 값으로 가지는 딕셔너리 생성.\n",
    "data[\"country\"] = country\n",
    "data[\"ranking\"] = ranking          \n",
    "data[\"manufacturer\"] = manufacturer \n",
    "data[\"product\"] = product\n",
    "data[\"rating\"] = rating\n",
    "data[\"num_review\"] = num_review \n",
    "data[\"price\"] = price\n",
    "data[\"feature\"] = feature\n",
    "data[\"current_url\"] = current_url\n",
    "data[\"description\"] = description\n",
    "data[\"review\"] = review"
   ]
  },
  {
   "cell_type": "markdown",
   "metadata": {},
   "source": [
    "* 'Pandas'라는 라이브러리를 이용하여 딕셔너리를 데이터프레임 형태로 만들어주고 'csv' 파일로 저장한다.\n",
    "* '데이터프레임'은 행과 열이 있는 테이블 형태의 자료형을 의미한다. "
   ]
  },
  {
   "cell_type": "code",
   "execution_count": 1,
   "metadata": {},
   "outputs": [
    {
     "ename": "WebDriverException",
     "evalue": "Message: unknown error: Element <a href=\"/Kompatibel-Einteilige-Transparent-Schutzhülle-042CS20926-UH-Schwarz/product-reviews/B01M1SCIOV/ref=cm_cr_getr_d_paging_btm_3?ie=UTF8&amp;pageNumber=3&amp;reviewerType=all_reviews&amp;pageSize=10\">...</a> is not clickable at point (398, 657). Other element would receive the click: <div class=\"a-section cr-list-loading reviews-loading\"></div>\n  (Session info: chrome=73.0.3683.86)\n  (Driver info: chromedriver=2.45.615291 (ec3682e3c9061c10f26ea9e5cdcf3c53f3f74387),platform=Windows NT 10.0.17134 x86_64)\n",
     "output_type": "error",
     "traceback": [
      "\u001b[1;31m---------------------------------------------------------------------------\u001b[0m",
      "\u001b[1;31mWebDriverException\u001b[0m                        Traceback (most recent call last)",
      "\u001b[1;32m<ipython-input-1-f58c91b84ac1>\u001b[0m in \u001b[0;36m<module>\u001b[1;34m\u001b[0m\n\u001b[0;32m    145\u001b[0m                         \u001b[0mreview_set\u001b[0m\u001b[1;33m.\u001b[0m\u001b[0mappend\u001b[0m\u001b[1;33m(\u001b[0m\u001b[0mdriver\u001b[0m\u001b[1;33m.\u001b[0m\u001b[0mfind_elements_by_css_selector\u001b[0m\u001b[1;33m(\u001b[0m\u001b[1;34m\"div[class='a-row a-spacing-small review-data']\"\u001b[0m\u001b[1;33m)\u001b[0m\u001b[1;33m[\u001b[0m\u001b[0mk\u001b[0m\u001b[1;33m]\u001b[0m\u001b[1;33m.\u001b[0m\u001b[0mtext\u001b[0m\u001b[1;33m)\u001b[0m\u001b[1;33m\u001b[0m\u001b[1;33m\u001b[0m\u001b[0m\n\u001b[0;32m    146\u001b[0m                     \u001b[1;32mtry\u001b[0m\u001b[1;33m:\u001b[0m\u001b[1;33m\u001b[0m\u001b[1;33m\u001b[0m\u001b[0m\n\u001b[1;32m--> 147\u001b[1;33m                         \u001b[0mdriver\u001b[0m\u001b[1;33m.\u001b[0m\u001b[0mfind_element_by_css_selector\u001b[0m\u001b[1;33m(\u001b[0m\u001b[1;34m\"ul.a-pagination > li.a-last > a\"\u001b[0m\u001b[1;33m)\u001b[0m\u001b[1;33m.\u001b[0m\u001b[0mclick\u001b[0m\u001b[1;33m(\u001b[0m\u001b[1;33m)\u001b[0m\u001b[1;33m\u001b[0m\u001b[1;33m\u001b[0m\u001b[0m\n\u001b[0m\u001b[0;32m    148\u001b[0m                         \u001b[0mdriver\u001b[0m\u001b[1;33m.\u001b[0m\u001b[0mimplicitly_wait\u001b[0m\u001b[1;33m(\u001b[0m\u001b[1;36m3\u001b[0m\u001b[1;33m)\u001b[0m\u001b[1;33m\u001b[0m\u001b[1;33m\u001b[0m\u001b[0m\n\u001b[0;32m    149\u001b[0m                     \u001b[1;32mexcept\u001b[0m \u001b[0mselexcept\u001b[0m\u001b[1;33m.\u001b[0m\u001b[0mNoSuchElementException\u001b[0m\u001b[1;33m:\u001b[0m\u001b[1;33m\u001b[0m\u001b[1;33m\u001b[0m\u001b[0m\n",
      "\u001b[1;32mC:\\ProgramData\\Anaconda3\\lib\\site-packages\\selenium\\webdriver\\remote\\webelement.py\u001b[0m in \u001b[0;36mclick\u001b[1;34m(self)\u001b[0m\n\u001b[0;32m     78\u001b[0m     \u001b[1;32mdef\u001b[0m \u001b[0mclick\u001b[0m\u001b[1;33m(\u001b[0m\u001b[0mself\u001b[0m\u001b[1;33m)\u001b[0m\u001b[1;33m:\u001b[0m\u001b[1;33m\u001b[0m\u001b[1;33m\u001b[0m\u001b[0m\n\u001b[0;32m     79\u001b[0m         \u001b[1;34m\"\"\"Clicks the element.\"\"\"\u001b[0m\u001b[1;33m\u001b[0m\u001b[1;33m\u001b[0m\u001b[0m\n\u001b[1;32m---> 80\u001b[1;33m         \u001b[0mself\u001b[0m\u001b[1;33m.\u001b[0m\u001b[0m_execute\u001b[0m\u001b[1;33m(\u001b[0m\u001b[0mCommand\u001b[0m\u001b[1;33m.\u001b[0m\u001b[0mCLICK_ELEMENT\u001b[0m\u001b[1;33m)\u001b[0m\u001b[1;33m\u001b[0m\u001b[1;33m\u001b[0m\u001b[0m\n\u001b[0m\u001b[0;32m     81\u001b[0m \u001b[1;33m\u001b[0m\u001b[0m\n\u001b[0;32m     82\u001b[0m     \u001b[1;32mdef\u001b[0m \u001b[0msubmit\u001b[0m\u001b[1;33m(\u001b[0m\u001b[0mself\u001b[0m\u001b[1;33m)\u001b[0m\u001b[1;33m:\u001b[0m\u001b[1;33m\u001b[0m\u001b[1;33m\u001b[0m\u001b[0m\n",
      "\u001b[1;32mC:\\ProgramData\\Anaconda3\\lib\\site-packages\\selenium\\webdriver\\remote\\webelement.py\u001b[0m in \u001b[0;36m_execute\u001b[1;34m(self, command, params)\u001b[0m\n\u001b[0;32m    626\u001b[0m             \u001b[0mparams\u001b[0m \u001b[1;33m=\u001b[0m \u001b[1;33m{\u001b[0m\u001b[1;33m}\u001b[0m\u001b[1;33m\u001b[0m\u001b[1;33m\u001b[0m\u001b[0m\n\u001b[0;32m    627\u001b[0m         \u001b[0mparams\u001b[0m\u001b[1;33m[\u001b[0m\u001b[1;34m'id'\u001b[0m\u001b[1;33m]\u001b[0m \u001b[1;33m=\u001b[0m \u001b[0mself\u001b[0m\u001b[1;33m.\u001b[0m\u001b[0m_id\u001b[0m\u001b[1;33m\u001b[0m\u001b[1;33m\u001b[0m\u001b[0m\n\u001b[1;32m--> 628\u001b[1;33m         \u001b[1;32mreturn\u001b[0m \u001b[0mself\u001b[0m\u001b[1;33m.\u001b[0m\u001b[0m_parent\u001b[0m\u001b[1;33m.\u001b[0m\u001b[0mexecute\u001b[0m\u001b[1;33m(\u001b[0m\u001b[0mcommand\u001b[0m\u001b[1;33m,\u001b[0m \u001b[0mparams\u001b[0m\u001b[1;33m)\u001b[0m\u001b[1;33m\u001b[0m\u001b[1;33m\u001b[0m\u001b[0m\n\u001b[0m\u001b[0;32m    629\u001b[0m \u001b[1;33m\u001b[0m\u001b[0m\n\u001b[0;32m    630\u001b[0m     \u001b[1;32mdef\u001b[0m \u001b[0mfind_element\u001b[0m\u001b[1;33m(\u001b[0m\u001b[0mself\u001b[0m\u001b[1;33m,\u001b[0m \u001b[0mby\u001b[0m\u001b[1;33m=\u001b[0m\u001b[0mBy\u001b[0m\u001b[1;33m.\u001b[0m\u001b[0mID\u001b[0m\u001b[1;33m,\u001b[0m \u001b[0mvalue\u001b[0m\u001b[1;33m=\u001b[0m\u001b[1;32mNone\u001b[0m\u001b[1;33m)\u001b[0m\u001b[1;33m:\u001b[0m\u001b[1;33m\u001b[0m\u001b[1;33m\u001b[0m\u001b[0m\n",
      "\u001b[1;32mC:\\ProgramData\\Anaconda3\\lib\\site-packages\\selenium\\webdriver\\remote\\webdriver.py\u001b[0m in \u001b[0;36mexecute\u001b[1;34m(self, driver_command, params)\u001b[0m\n\u001b[0;32m    318\u001b[0m         \u001b[0mresponse\u001b[0m \u001b[1;33m=\u001b[0m \u001b[0mself\u001b[0m\u001b[1;33m.\u001b[0m\u001b[0mcommand_executor\u001b[0m\u001b[1;33m.\u001b[0m\u001b[0mexecute\u001b[0m\u001b[1;33m(\u001b[0m\u001b[0mdriver_command\u001b[0m\u001b[1;33m,\u001b[0m \u001b[0mparams\u001b[0m\u001b[1;33m)\u001b[0m\u001b[1;33m\u001b[0m\u001b[1;33m\u001b[0m\u001b[0m\n\u001b[0;32m    319\u001b[0m         \u001b[1;32mif\u001b[0m \u001b[0mresponse\u001b[0m\u001b[1;33m:\u001b[0m\u001b[1;33m\u001b[0m\u001b[1;33m\u001b[0m\u001b[0m\n\u001b[1;32m--> 320\u001b[1;33m             \u001b[0mself\u001b[0m\u001b[1;33m.\u001b[0m\u001b[0merror_handler\u001b[0m\u001b[1;33m.\u001b[0m\u001b[0mcheck_response\u001b[0m\u001b[1;33m(\u001b[0m\u001b[0mresponse\u001b[0m\u001b[1;33m)\u001b[0m\u001b[1;33m\u001b[0m\u001b[1;33m\u001b[0m\u001b[0m\n\u001b[0m\u001b[0;32m    321\u001b[0m             response['value'] = self._unwrap_value(\n\u001b[0;32m    322\u001b[0m                 response.get('value', None))\n",
      "\u001b[1;32mC:\\ProgramData\\Anaconda3\\lib\\site-packages\\selenium\\webdriver\\remote\\errorhandler.py\u001b[0m in \u001b[0;36mcheck_response\u001b[1;34m(self, response)\u001b[0m\n\u001b[0;32m    240\u001b[0m                 \u001b[0malert_text\u001b[0m \u001b[1;33m=\u001b[0m \u001b[0mvalue\u001b[0m\u001b[1;33m[\u001b[0m\u001b[1;34m'alert'\u001b[0m\u001b[1;33m]\u001b[0m\u001b[1;33m.\u001b[0m\u001b[0mget\u001b[0m\u001b[1;33m(\u001b[0m\u001b[1;34m'text'\u001b[0m\u001b[1;33m)\u001b[0m\u001b[1;33m\u001b[0m\u001b[1;33m\u001b[0m\u001b[0m\n\u001b[0;32m    241\u001b[0m             \u001b[1;32mraise\u001b[0m \u001b[0mexception_class\u001b[0m\u001b[1;33m(\u001b[0m\u001b[0mmessage\u001b[0m\u001b[1;33m,\u001b[0m \u001b[0mscreen\u001b[0m\u001b[1;33m,\u001b[0m \u001b[0mstacktrace\u001b[0m\u001b[1;33m,\u001b[0m \u001b[0malert_text\u001b[0m\u001b[1;33m)\u001b[0m\u001b[1;33m\u001b[0m\u001b[1;33m\u001b[0m\u001b[0m\n\u001b[1;32m--> 242\u001b[1;33m         \u001b[1;32mraise\u001b[0m \u001b[0mexception_class\u001b[0m\u001b[1;33m(\u001b[0m\u001b[0mmessage\u001b[0m\u001b[1;33m,\u001b[0m \u001b[0mscreen\u001b[0m\u001b[1;33m,\u001b[0m \u001b[0mstacktrace\u001b[0m\u001b[1;33m)\u001b[0m\u001b[1;33m\u001b[0m\u001b[1;33m\u001b[0m\u001b[0m\n\u001b[0m\u001b[0;32m    243\u001b[0m \u001b[1;33m\u001b[0m\u001b[0m\n\u001b[0;32m    244\u001b[0m     \u001b[1;32mdef\u001b[0m \u001b[0m_value_or_default\u001b[0m\u001b[1;33m(\u001b[0m\u001b[0mself\u001b[0m\u001b[1;33m,\u001b[0m \u001b[0mobj\u001b[0m\u001b[1;33m,\u001b[0m \u001b[0mkey\u001b[0m\u001b[1;33m,\u001b[0m \u001b[0mdefault\u001b[0m\u001b[1;33m)\u001b[0m\u001b[1;33m:\u001b[0m\u001b[1;33m\u001b[0m\u001b[1;33m\u001b[0m\u001b[0m\n",
      "\u001b[1;31mWebDriverException\u001b[0m: Message: unknown error: Element <a href=\"/Kompatibel-Einteilige-Transparent-Schutzhülle-042CS20926-UH-Schwarz/product-reviews/B01M1SCIOV/ref=cm_cr_getr_d_paging_btm_3?ie=UTF8&amp;pageNumber=3&amp;reviewerType=all_reviews&amp;pageSize=10\">...</a> is not clickable at point (398, 657). Other element would receive the click: <div class=\"a-section cr-list-loading reviews-loading\"></div>\n  (Session info: chrome=73.0.3683.86)\n  (Driver info: chromedriver=2.45.615291 (ec3682e3c9061c10f26ea9e5cdcf3c53f3f74387),platform=Windows NT 10.0.17134 x86_64)\n"
     ]
    }
   ],
   "source": [
    "# 데이터 프레임 생성하기.\n",
    "amazon = pd.DataFrame(data=data)\n",
    "\n",
    "# 'csv' 파일로 저장하기.\n",
    "amazon.to_csv(\"amazon.csv\", index=False)"
   ]
  },
  {
   "cell_type": "code",
   "execution_count": null,
   "metadata": {},
   "outputs": [],
   "source": []
  }
 ],
 "metadata": {
  "kernelspec": {
   "display_name": "Python 3",
   "language": "python",
   "name": "python3"
  },
  "language_info": {
   "codemirror_mode": {
    "name": "ipython",
    "version": 3
   },
   "file_extension": ".py",
   "mimetype": "text/x-python",
   "name": "python",
   "nbconvert_exporter": "python",
   "pygments_lexer": "ipython3",
   "version": "3.6.8"
  },
  "toc": {
   "base_numbering": 1,
   "nav_menu": {},
   "number_sections": false,
   "sideBar": true,
   "skip_h1_title": false,
   "title_cell": "Table of Contents",
   "title_sidebar": "Contents",
   "toc_cell": false,
   "toc_position": {
    "height": "calc(100% - 180px)",
    "left": "10px",
    "top": "150px",
    "width": "341.328px"
   },
   "toc_section_display": true,
   "toc_window_display": true
  },
  "varInspector": {
   "cols": {
    "lenName": 16,
    "lenType": 16,
    "lenVar": 40
   },
   "kernels_config": {
    "python": {
     "delete_cmd_postfix": "",
     "delete_cmd_prefix": "del ",
     "library": "var_list.py",
     "varRefreshCmd": "print(var_dic_list())"
    },
    "r": {
     "delete_cmd_postfix": ") ",
     "delete_cmd_prefix": "rm(",
     "library": "var_list.r",
     "varRefreshCmd": "cat(var_dic_list()) "
    }
   },
   "types_to_exclude": [
    "module",
    "function",
    "builtin_function_or_method",
    "instance",
    "_Feature"
   ],
   "window_display": false
  }
 },
 "nbformat": 4,
 "nbformat_minor": 2
}
